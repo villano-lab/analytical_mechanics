{
 "cells": [
  {
   "cell_type": "code",
   "execution_count": 1,
   "id": "d86b91f8-246d-4208-8f36-cba4ef15ca46",
   "metadata": {},
   "outputs": [],
   "source": [
    "#we may need some code in the ../python directory and/or matplotlib styles\n",
    "import sys\n",
    "sys.path.append('../python/')\n",
    "\n",
    "#matplotlib for plotting\n",
    "import matplotlib as mpl\n",
    "from matplotlib import pyplot as plt\n",
    "plt.style.use('mplstyles/stylelib/standard.mplstyle')\n",
    "\n",
    "#other computational libraries\n",
    "import numpy as np"
   ]
  },
  {
   "cell_type": "code",
   "execution_count": 2,
   "id": "fc8190c3-d54c-4488-8b84-8ffd72a68020",
   "metadata": {},
   "outputs": [],
   "source": [
    "t = np.arange(0,5,0.001)"
   ]
  },
  {
   "cell_type": "code",
   "execution_count": 3,
   "id": "a38e4f33-80dd-462a-93d5-1b24463a9a6e",
   "metadata": {},
   "outputs": [
    {
     "name": "stdout",
     "output_type": "stream",
     "text": [
      "[0.000e+00 1.000e-03 2.000e-03 ... 4.997e+00 4.998e+00 4.999e+00]\n"
     ]
    }
   ],
   "source": [
    "print(t)"
   ]
  },
  {
   "cell_type": "code",
   "execution_count": 6,
   "id": "2debb881-a2ec-406c-94ee-52c80afc14fa",
   "metadata": {},
   "outputs": [],
   "source": [
    "x = np.zeros(np.shape(t))\n",
    "v = np.zeros(np.shape(t))\n",
    "a = np.zeros(np.shape(t))"
   ]
  },
  {
   "cell_type": "code",
   "execution_count": 5,
   "id": "1b4cc27b-ff23-4635-9e36-081c06756874",
   "metadata": {},
   "outputs": [
    {
     "name": "stdout",
     "output_type": "stream",
     "text": [
      "[0. 0. 0. ... 0. 0. 0.]\n"
     ]
    }
   ],
   "source": [
    "print(x)"
   ]
  },
  {
   "cell_type": "code",
   "execution_count": 8,
   "id": "6eb2e716-1df5-47ed-97cf-39b4d329f89c",
   "metadata": {},
   "outputs": [],
   "source": [
    "x0 = 4\n",
    "v0 = 1\n",
    "dt = np.mean(np.diff(t))"
   ]
  },
  {
   "cell_type": "code",
   "execution_count": 9,
   "id": "f4a55b31-a493-4675-90b8-7345e8aed6d7",
   "metadata": {},
   "outputs": [
    {
     "name": "stdout",
     "output_type": "stream",
     "text": [
      "0.001\n"
     ]
    }
   ],
   "source": [
    "print(dt)"
   ]
  },
  {
   "cell_type": "code",
   "execution_count": 16,
   "id": "b8c9d0a7-f0b6-47ce-98c5-3bcc44fccc21",
   "metadata": {},
   "outputs": [],
   "source": [
    "x[0] = x0\n",
    "v[0] = v0\n",
    "\n",
    "\n",
    "k = 2\n",
    "m = 1\n",
    "\n",
    "a[0] = -(k/m)*x0"
   ]
  },
  {
   "cell_type": "code",
   "execution_count": 17,
   "id": "0e2eda17-a2ad-42eb-8c82-b04cf577faba",
   "metadata": {},
   "outputs": [],
   "source": [
    "for i, tloop in enumerate(t):\n",
    "    if(i==0): continue\n",
    "    x[i] = x[i-1] + v[i-1]*dt\n",
    "    v[i] = v[i-1] + a[i-1]*dt\n",
    "    a[i] = -(k/m)*x[i]"
   ]
  },
  {
   "cell_type": "code",
   "execution_count": 18,
   "id": "9142da76-eba0-4fc2-8455-a29a7171dabf",
   "metadata": {},
   "outputs": [
    {
     "name": "stdout",
     "output_type": "stream",
     "text": [
      "[4.         4.001      4.001992   ... 3.34922129 3.34592024 3.3426125 ]\n"
     ]
    }
   ],
   "source": [
    "print(x)"
   ]
  },
  {
   "cell_type": "code",
   "execution_count": null,
   "id": "3dd87c8f-8bb3-4390-8e2f-fac760c8f36d",
   "metadata": {},
   "outputs": [],
   "source": []
  }
 ],
 "metadata": {
  "kernelspec": {
   "display_name": "Python 3 (ipykernel)",
   "language": "python",
   "name": "python3"
  },
  "language_info": {
   "codemirror_mode": {
    "name": "ipython",
    "version": 3
   },
   "file_extension": ".py",
   "mimetype": "text/x-python",
   "name": "python",
   "nbconvert_exporter": "python",
   "pygments_lexer": "ipython3",
   "version": "3.9.12"
  }
 },
 "nbformat": 4,
 "nbformat_minor": 5
}
